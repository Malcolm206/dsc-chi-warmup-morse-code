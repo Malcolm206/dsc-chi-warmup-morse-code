{
 "cells": [
  {
   "cell_type": "markdown",
   "metadata": {},
   "source": [
    "# Decode Morse Code"
   ]
  },
  {
   "cell_type": "markdown",
   "metadata": {},
   "source": [
    "This morning we will be writing a function to translate a poem that has been encoded with morse code."
   ]
  },
  {
   "cell_type": "markdown",
   "metadata": {},
   "source": [
    "![](https://media.giphy.com/media/4AUH1t6ccRfhe/giphy.gif)"
   ]
  },
  {
   "cell_type": "markdown",
   "metadata": {},
   "source": [
    "**Import modules**"
   ]
  },
  {
   "cell_type": "code",
   "execution_count": null,
   "metadata": {
    "ExecuteTime": {
     "end_time": "2020-06-21T20:45:53.262128Z",
     "start_time": "2020-06-21T20:45:52.848927Z"
    }
   },
   "outputs": [],
   "source": [
    "# os is used to create file paths\n",
    "import os\n",
    "# pickle is used to import data files\n",
    "import pickle\n",
    "# test package\n",
    "from test_scripts.test_class import Test"
   ]
  },
  {
   "cell_type": "code",
   "execution_count": 1,
   "metadata": {
    "ExecuteTime": {
     "end_time": "2020-06-21T20:46:15.915258Z",
     "start_time": "2020-06-21T20:46:15.521598Z"
    }
   },
   "outputs": [],
   "source": [
    "# __SOLUTION__\n",
    "# os is used to create file paths\n",
    "import os\n",
    "# pickle is used to import data files\n",
    "import pickle\n",
    "# test package\n",
    "from test_scripts.test_class import Test"
   ]
  },
  {
   "cell_type": "markdown",
   "metadata": {},
   "source": [
    "**In the cell below, we import the encoded poem.**"
   ]
  },
  {
   "cell_type": "code",
   "execution_count": null,
   "metadata": {
    "ExecuteTime": {
     "end_time": "2020-06-21T18:37:33.416032Z",
     "start_time": "2020-06-21T18:37:33.411384Z"
    }
   },
   "outputs": [],
   "source": [
    "path_to_poem = os.path.join('data', 'morseCode.pkl')\n",
    "with open(path_to_poem, 'rb') as file:\n",
    "    data = pickle.load(file)"
   ]
  },
  {
   "cell_type": "code",
   "execution_count": 2,
   "metadata": {
    "ExecuteTime": {
     "end_time": "2020-06-21T20:46:17.932447Z",
     "start_time": "2020-06-21T20:46:17.929116Z"
    }
   },
   "outputs": [],
   "source": [
    "# __SOLUTION__\n",
    "path_to_poem = os.path.join('data', 'morseCode.pkl')\n",
    "with open(path_to_poem, 'rb') as file:\n",
    "    data = pickle.load(file)"
   ]
  },
  {
   "cell_type": "markdown",
   "metadata": {
    "ExecuteTime": {
     "end_time": "2020-06-21T17:54:08.782986Z",
     "start_time": "2020-06-21T17:54:08.777809Z"
    }
   },
   "source": [
    "**Let's take a look at the first line of the poem**"
   ]
  },
  {
   "cell_type": "code",
   "execution_count": null,
   "metadata": {
    "ExecuteTime": {
     "end_time": "2020-06-21T18:37:35.182483Z",
     "start_time": "2020-06-21T18:37:35.172637Z"
    }
   },
   "outputs": [],
   "source": [
    "data[0]"
   ]
  },
  {
   "cell_type": "code",
   "execution_count": 3,
   "metadata": {
    "ExecuteTime": {
     "end_time": "2020-06-21T20:46:20.379435Z",
     "start_time": "2020-06-21T20:46:20.370581Z"
    }
   },
   "outputs": [
    {
     "data": {
      "text/plain": [
       "'- .... ./--.. . -./--- ..-./.--. -.-- - .... --- -. --..--/-... -.--/- .. --/.--. . - . .-. .../'"
      ]
     },
     "execution_count": 3,
     "metadata": {},
     "output_type": "execute_result"
    }
   ],
   "source": [
    "# __SOLUTION__\n",
    "data[0]"
   ]
  },
  {
   "cell_type": "markdown",
   "metadata": {},
   "source": [
    "**A dictionary of morse code mapping is imported below.**"
   ]
  },
  {
   "cell_type": "code",
   "execution_count": null,
   "metadata": {
    "ExecuteTime": {
     "end_time": "2020-06-21T18:37:37.285990Z",
     "start_time": "2020-06-21T18:37:37.281457Z"
    }
   },
   "outputs": [],
   "source": [
    "# Import decode dictionary\n",
    "decode_path = os.path.join('data', 'morseMappings.pkl')\n",
    "with open(decode_path, 'rb') as file:\n",
    "    decode = pickle.load(file)\n",
    "\n",
    "print(decode)"
   ]
  },
  {
   "cell_type": "code",
   "execution_count": 4,
   "metadata": {
    "ExecuteTime": {
     "end_time": "2020-06-21T20:46:22.765156Z",
     "start_time": "2020-06-21T20:46:22.760961Z"
    }
   },
   "outputs": [
    {
     "name": "stdout",
     "output_type": "stream",
     "text": [
      "{'.-': 'A', '-...': 'B', '-.-.': 'C', '-..': 'D', '.': 'E', '..-.': 'F', '--.': 'G', '....': 'H', '..': 'I', '.---': 'J', '-.-': 'K', '.-..': 'L', '--': 'M', '-.': 'N', '---': 'O', '.--.': 'P', '--.-': 'Q', '.-.': 'R', '...': 'S', '-': 'T', '..-': 'U', '...-': 'V', '.--': 'W', '-..-': 'X', '-.--': 'Y', '--..': 'Z', '.----': '1', '..---': '2', '...--': '3', '....-': '4', '.....': '5', '-....': '6', '--...': '7', '---..': '8', '----.': '9', '-----': '0', '--..--': ',', '.-.-.-': '.', '..--..': '?', '-..-.': '/', '-....-': '-', '-.--.': '(', '-.--.-': ')', '-.-.--': '!', '.----.': \"'\", '---...': ':', '.-...': '&'}\n"
     ]
    }
   ],
   "source": [
    "# __SOLUTION__\n",
    "# Import decode dictionary\n",
    "decode_path = os.path.join('data', 'morseMappings.pkl')\n",
    "with open(decode_path, 'rb') as file:\n",
    "    decode = pickle.load(file)\n",
    "\n",
    "print(decode)"
   ]
  },
  {
   "cell_type": "markdown",
   "metadata": {},
   "source": [
    "**The keys of this dictionary are morse code and the values are english characters.**\n",
    "\n",
    "To translate the poem, we simply have to feed each encoded letter into the dictionary as a key, and we will receive its decoded value.\n",
    "\n",
    "*Important information:*\n",
    "\n",
    ">The encoded poem uses a forward slash ```'/'``` to seperate words and a space ```' '``` to seperate each letter.\n",
    "\n",
    "Using the ```decode``` dictionary, please build a function that can translate the poem from morse code to english sentences.\n",
    "\n",
    "<u>To do this, the function should:</u>\n",
    "1. Receive a single encoded string called ```morse_code```.\n",
    "2. Split the encoded string using ```'/'``` as a seperator.\n",
    "3. Loop over the list of encoded words.\n",
    "4. Split a given word using ```' '``` as a seperator.\n",
    "5. Loop over each letter in a given word.\n",
    "6. Feed the letter into the ```decode``` dictionary as a key.\n",
    "7. Append each decoded letter to a string\n",
    "8. Append each decoded word to a string with spaces between each word\n",
    "9. No spaces should be present at the beginning or the end of a decoded sentence. "
   ]
  },
  {
   "cell_type": "code",
   "execution_count": null,
   "metadata": {},
   "outputs": [],
   "source": [
    "# Your code here\n",
    "def decode_morse(morse_code):\n",
    "    pass"
   ]
  },
  {
   "cell_type": "code",
   "execution_count": 5,
   "metadata": {
    "ExecuteTime": {
     "end_time": "2020-06-21T20:46:25.860071Z",
     "start_time": "2020-06-21T20:46:25.853928Z"
    }
   },
   "outputs": [],
   "source": [
    "# __SOLUTION__\n",
    "def decode_morse(morse_code):\n",
    "    decoded = ''\n",
    "    words = morse_code.split('/')\n",
    "    for word in words:\n",
    "        letters = word.split()\n",
    "        length = len(letters)\n",
    "        for idx in range(length):\n",
    "            letter = letters[idx]\n",
    "            if letter in decode.keys():\n",
    "                decoded += decode[letter]\n",
    "            if idx == length - 1:\n",
    "                decoded += ' '\n",
    "    decoded = decoded.strip()\n",
    "    return decoded       "
   ]
  },
  {
   "cell_type": "markdown",
   "metadata": {},
   "source": [
    "<u><b>Run the cell below to test your function!</b></u>"
   ]
  },
  {
   "cell_type": "code",
   "execution_count": null,
   "metadata": {
    "ExecuteTime": {
     "end_time": "2020-06-21T18:41:54.324404Z",
     "start_time": "2020-06-21T18:41:54.319444Z"
    }
   },
   "outputs": [],
   "source": [
    "test = Test()\n",
    "poem = [decode_morse(line) for line in data]\n",
    "test.run_test(poem, 'poem')"
   ]
  },
  {
   "cell_type": "code",
   "execution_count": 6,
   "metadata": {
    "ExecuteTime": {
     "end_time": "2020-06-21T20:46:27.826788Z",
     "start_time": "2020-06-21T20:46:27.821123Z"
    }
   },
   "outputs": [
    {
     "data": {
      "text/markdown": [
       "✅ **Hey, you did it.  Good job.**"
      ],
      "text/plain": [
       "<IPython.core.display.Markdown object>"
      ]
     },
     "metadata": {},
     "output_type": "display_data"
    }
   ],
   "source": [
    "# __SOLUTION__\n",
    "test = Test()\n",
    "poem = [decode_morse(line) for line in data]\n",
    "test.run_test(poem, 'poem')"
   ]
  },
  {
   "cell_type": "markdown",
   "metadata": {},
   "source": [
    "### Now, let's test our function against the entire play ```The Tragedy of Julius Caesar```"
   ]
  },
  {
   "cell_type": "code",
   "execution_count": null,
   "metadata": {
    "ExecuteTime": {
     "end_time": "2020-06-21T20:36:09.498289Z",
     "start_time": "2020-06-21T20:36:09.443756Z"
    }
   },
   "outputs": [],
   "source": [
    "# Import encoded data\n",
    "caesar_path = os.path.join('data', 'juliusCaesarEncoded.pkl')\n",
    "with open(caesar_path, 'rb') as file:\n",
    "    caesar = pickle.load(file)\n",
    "    \n",
    "# Run our function on every line of the play\n",
    "caesar_decoded = [decode_morse(line) for line in caesar]\n",
    "\n",
    "# Test the results!\n",
    "test.run_test(caesar_decoded, 'caesar')"
   ]
  },
  {
   "cell_type": "code",
   "execution_count": 7,
   "metadata": {
    "ExecuteTime": {
     "end_time": "2020-06-21T20:46:30.867104Z",
     "start_time": "2020-06-21T20:46:30.812840Z"
    }
   },
   "outputs": [
    {
     "data": {
      "text/markdown": [
       "✅ **Hey, you did it.  Good job.**"
      ],
      "text/plain": [
       "<IPython.core.display.Markdown object>"
      ]
     },
     "metadata": {},
     "output_type": "display_data"
    }
   ],
   "source": [
    "# __SOLUTION__\n",
    "# Import encoded data\n",
    "with open('data/juliusCaesarEncoded.pkl', 'rb') as file:\n",
    "    caesar = pickle.load(file)\n",
    "\n",
    "# Run our function on every line of the play    \n",
    "decoded_caesar = [decode_morse(line) for line in caesar]\n",
    "\n",
    "# Test the results!\n",
    "test.run_test(decoded_caesar, 'caesar')"
   ]
  },
  {
   "cell_type": "markdown",
   "metadata": {
    "ExecuteTime": {
     "end_time": "2020-02-28T22:50:42.727864Z",
     "start_time": "2020-02-28T22:50:42.724984Z"
    }
   },
   "source": [
    "# Enjoy Mod 3 :)"
   ]
  },
  {
   "cell_type": "markdown",
   "metadata": {},
   "source": [
    "![](https://media.giphy.com/media/vzO0Vc8b2VBLi/giphy.gif)"
   ]
  },
  {
   "cell_type": "code",
   "execution_count": null,
   "metadata": {
    "ExecuteTime": {
     "end_time": "2020-06-21T19:47:52.020914Z",
     "start_time": "2020-06-21T19:47:52.011458Z"
    }
   },
   "outputs": [],
   "source": [
    "# __SOLUTION__\n",
    "# This cell is used to create the data for this warmup, and is reliant on a data/ subdirectory. \n",
    "\n",
    "# Import morse code mappings dictionary\n",
    "with open('data/morseMappings.pkl', 'rb') as file:\n",
    "    morse_mappings = pickle.load(file)\n",
    "    \n",
    "# The imported dictionary has morse code as keys and \n",
    "# uppercase alphabetic, numeric, and punctuation characters as values.\n",
    "# To encode text to morse code, we must swap the keys and values\n",
    "morse_encoding = {value: key for key, value in morse_mappings.items()}\n",
    "\n",
    "def morse(text):\n",
    "    '''Function to encode text as morse code.\n",
    "       Each word is seperated using a forward slash \"/\"\n",
    "       Each letter is seperated used a single space \" \"\n",
    "       \n",
    "       This function is reliant on a global morse_encoding dictionary\n",
    "       that has Alpha numeric, uppercase, keys and morse code as values.\n",
    "       '''\n",
    "    # Change letters to upper case to match the keys in the morse_encoding dictionary\n",
    "    # Split string using a single space \" \" as a seperator\n",
    "    split = text.upper().split()\n",
    "    # Create an empty string to append each encoded word to\n",
    "    sentence = ''\n",
    "    # Loop over the list of words\n",
    "    for word in split:\n",
    "        # Create an empty string to append each encoded letter to\n",
    "        w = ''\n",
    "        # Loop over each letter in the word using the index to ensure\n",
    "        # we do not add a space at the end of the sentence\n",
    "        ##### This could also be accomplished \n",
    "        ##### by using .strip()\n",
    "        for idx in range(len(word)):\n",
    "            w += morse_encoding[word[idx]]\n",
    "            if idx == len(word) - 1:\n",
    "                pass\n",
    "            else:\n",
    "                w += ' '\n",
    "        # Once every letter has been encoded,\n",
    "        # append a forward slash at the of the word\n",
    "        sentence += w + '/'\n",
    "    return sentence \n",
    "\n",
    "poem = [\"The Zen of Python, by Tim Peters\",\n",
    "\"Beautiful is better than ugly.\",\n",
    "\"Explicit is better than implicit.\",\n",
    "\"Simple is better than complex.\",\n",
    "\"Complex is better than complicated.\",\n",
    "\"Flat is better than nested.\",\n",
    "\"Sparse is better than dense.\",\n",
    "\"Readability counts.\",\n",
    "\"Special cases aren't special enough to break the rules.\",\n",
    "\"Although practicality beats purity.\",\n",
    "\"Errors should never pass silently.\",\n",
    "\"Unless explicitly silenced.\",\n",
    "\"In the face of ambiguity, refuse the temptation to guess.\",\n",
    "\"There should be one-- and preferably only one --obvious way to do it.\",\n",
    "\"Although that way may not be obvious at first unless you're Dutch.\",\n",
    "\"Now is better than never.\",\n",
    "\"Although never is often better than right now.\",\n",
    "\"If the implementation is hard to explain, it's a bad idea.\",\n",
    "\"If the implementation is easy to explain, it may be a good idea.\",\n",
    "\"Namespaces are one honking great idea -- let's do more of those!\"]\n",
    "\n",
    "encoded_poem = [morse(line) for line in poem]\n",
    "\n",
    "with open('data/morseCode.pkl', 'wb') as file:\n",
    "    pickle.dump(encoded_poem, file)"
   ]
  },
  {
   "cell_type": "code",
   "execution_count": null,
   "metadata": {},
   "outputs": [],
   "source": []
  }
 ],
 "metadata": {
  "hide_input": false,
  "kernelspec": {
   "display_name": "Python 3",
   "language": "python",
   "name": "python3"
  },
  "language_info": {
   "codemirror_mode": {
    "name": "ipython",
    "version": 3
   },
   "file_extension": ".py",
   "mimetype": "text/x-python",
   "name": "python",
   "nbconvert_exporter": "python",
   "pygments_lexer": "ipython3",
   "version": "3.7.3"
  },
  "toc": {
   "base_numbering": 1,
   "nav_menu": {},
   "number_sections": true,
   "sideBar": true,
   "skip_h1_title": false,
   "title_cell": "Table of Contents",
   "title_sidebar": "Contents",
   "toc_cell": false,
   "toc_position": {},
   "toc_section_display": true,
   "toc_window_display": false
  },
  "varInspector": {
   "cols": {
    "lenName": 16,
    "lenType": 16,
    "lenVar": 40
   },
   "kernels_config": {
    "python": {
     "delete_cmd_postfix": "",
     "delete_cmd_prefix": "del ",
     "library": "var_list.py",
     "varRefreshCmd": "print(var_dic_list())"
    },
    "r": {
     "delete_cmd_postfix": ") ",
     "delete_cmd_prefix": "rm(",
     "library": "var_list.r",
     "varRefreshCmd": "cat(var_dic_list()) "
    }
   },
   "types_to_exclude": [
    "module",
    "function",
    "builtin_function_or_method",
    "instance",
    "_Feature"
   ],
   "window_display": false
  }
 },
 "nbformat": 4,
 "nbformat_minor": 2
}
